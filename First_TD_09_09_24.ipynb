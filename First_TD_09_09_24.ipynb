{
 "cells": [
  {
   "cell_type": "code",
   "execution_count": 10,
   "id": "0902b10a-4252-4ead-a77c-b19567708e37",
   "metadata": {},
   "outputs": [],
   "source": [
    "import numpy as np\n",
    "import pandas as pd\n",
    "import matplotlib.pyplot as plt"
   ]
  },
  {
   "cell_type": "code",
   "execution_count": 16,
   "id": "c26f6a2e-6c1a-4cf3-93b6-07bfd8c56fc0",
   "metadata": {},
   "outputs": [],
   "source": [
    "n = 25\n",
    "\n",
    "def SumUpToN(n):\n",
    "    '''\n",
    "    X = 0 + 1 + 2 + 3 + n\n",
    "    '''\n",
    "    # Initisalisation\n",
    "    s = 0\n",
    "    \n",
    "    for i in range(n + 1):\n",
    "        s = s + i\n",
    "    return s"
   ]
  },
  {
   "cell_type": "code",
   "execution_count": 17,
   "id": "fd44f5f5-08fe-476c-aad8-fab24162a042",
   "metadata": {},
   "outputs": [
    {
     "data": {
      "text/plain": [
       "325"
      ]
     },
     "execution_count": 17,
     "metadata": {},
     "output_type": "execute_result"
    }
   ],
   "source": [
    "SumUpToN(n)"
   ]
  },
  {
   "cell_type": "code",
   "execution_count": 55,
   "id": "5855f6b4-d603-4b28-9769-2ea71d3b6dc6",
   "metadata": {},
   "outputs": [],
   "source": [
    "text = \"niubhuipgpuhpun ijoiji h ç_hiço hi hihoih \\\n",
    "uyvyuvvyuibfr fueu eue  uehf v\""
   ]
  },
  {
   "cell_type": "code",
   "execution_count": 56,
   "id": "524bc49f-f1ef-46ba-94b9-b661d607ea32",
   "metadata": {},
   "outputs": [
    {
     "data": {
      "text/plain": [
       "['niubhuipgpuhpun',\n",
       " 'ijoiji',\n",
       " 'h',\n",
       " 'ç_hiço',\n",
       " 'hi',\n",
       " 'hihoih',\n",
       " 'uyvyuvvyuibfr',\n",
       " 'fueu',\n",
       " 'eue',\n",
       " '',\n",
       " 'uehf',\n",
       " 'v']"
      ]
     },
     "execution_count": 56,
     "metadata": {},
     "output_type": "execute_result"
    }
   ],
   "source": [
    "text.split(' ')"
   ]
  },
  {
   "cell_type": "code",
   "execution_count": 57,
   "id": "dca0f397-a14c-4e34-8cd3-7e6f6b017329",
   "metadata": {},
   "outputs": [
    {
     "data": {
      "text/plain": [
       "['v',\n",
       " 'uehf',\n",
       " '',\n",
       " 'eue',\n",
       " 'fueu',\n",
       " 'uyvyuvvyuibfr',\n",
       " 'hihoih',\n",
       " 'hi',\n",
       " 'ç_hiço',\n",
       " 'h',\n",
       " 'ijoiji',\n",
       " 'niubhuipgpuhpun']"
      ]
     },
     "execution_count": 57,
     "metadata": {},
     "output_type": "execute_result"
    }
   ],
   "source": [
    "text.split(' ')[::-1]"
   ]
  },
  {
   "cell_type": "code",
   "execution_count": 58,
   "id": "3c52b393-ad72-4724-9be6-c9bbc178c24d",
   "metadata": {},
   "outputs": [
    {
     "data": {
      "text/plain": [
       "12"
      ]
     },
     "execution_count": 58,
     "metadata": {},
     "output_type": "execute_result"
    }
   ],
   "source": [
    "len(text.split(' '))"
   ]
  },
  {
   "cell_type": "code",
   "execution_count": 59,
   "id": "0ad93ac6-ee8f-4351-834d-33392ac9187a",
   "metadata": {},
   "outputs": [
    {
     "name": "stdout",
     "output_type": "stream",
     "text": [
      "iubhuipgpuhpun ijoiji h ç_hiço hi hihoih uyvyuvvyuibfr fueu eue  uehf v\n"
     ]
    }
   ],
   "source": [
    "for line in text.split('.'):\n",
    "    print(line[1:])"
   ]
  },
  {
   "cell_type": "code",
   "execution_count": 60,
   "id": "087d5370-3da0-44f4-b1e9-25e4312c4652",
   "metadata": {},
   "outputs": [
    {
     "ename": "SyntaxError",
     "evalue": "incomplete input (3203777294.py, line 1)",
     "output_type": "error",
     "traceback": [
      "\u001b[1;36m  Cell \u001b[1;32mIn[60], line 1\u001b[1;36m\u001b[0m\n\u001b[1;33m    'p'.join(text.split(' ')[::-1]\u001b[0m\n\u001b[1;37m                                  ^\u001b[0m\n\u001b[1;31mSyntaxError\u001b[0m\u001b[1;31m:\u001b[0m incomplete input\n"
     ]
    }
   ],
   "source": [
    "'p'.join(text.split(' ')[::-1]"
   ]
  },
  {
   "cell_type": "code",
   "execution_count": 54,
   "id": "1a759ed3-f6ed-49e4-ba64-84492a58d3e0",
   "metadata": {},
   "outputs": [
    {
     "name": "stdout",
     "output_type": "stream",
     "text": [
      "niubhui\n",
      "g\n",
      "uh\n",
      "un ijoiji h ç_hiço hi hihoih uyvyuvvyuibfr ferui  feiuhfger  fueu eue  uehf v\n"
     ]
    }
   ],
   "source": [
    "for word in text.split('p'):\n",
    "    print(word)"
   ]
  },
  {
   "cell_type": "code",
   "execution_count": 64,
   "id": "f5e16dd6-7c64-4f6b-99f0-ca47d66f06dd",
   "metadata": {},
   "outputs": [
    {
     "data": {
      "text/plain": [
       "10"
      ]
     },
     "execution_count": 64,
     "metadata": {},
     "output_type": "execute_result"
    }
   ],
   "source": [
    "number_of_i = text.count('i')\n",
    "number_of_i"
   ]
  },
  {
   "cell_type": "code",
   "execution_count": 65,
   "id": "90c47d0b-7664-4dbc-a428-482c7da716f4",
   "metadata": {},
   "outputs": [
    {
     "data": {
      "text/plain": [
       "'niubhuipgpuhpun ijoiji h ç_hiço hi hihoih uyvyuvvyuibfr fueu eue  uehf v'"
      ]
     },
     "execution_count": 65,
     "metadata": {},
     "output_type": "execute_result"
    }
   ],
   "source": [
    "text"
   ]
  },
  {
   "cell_type": "code",
   "execution_count": 68,
   "id": "ae2f9559-27e4-41e0-9ea3-c1ca4c8916bd",
   "metadata": {},
   "outputs": [
    {
     "data": {
      "text/plain": [
       "{' ',\n",
       " '_',\n",
       " 'b',\n",
       " 'e',\n",
       " 'f',\n",
       " 'g',\n",
       " 'h',\n",
       " 'i',\n",
       " 'j',\n",
       " 'n',\n",
       " 'o',\n",
       " 'p',\n",
       " 'r',\n",
       " 'u',\n",
       " 'v',\n",
       " 'y',\n",
       " 'ç'}"
      ]
     },
     "execution_count": 68,
     "metadata": {},
     "output_type": "execute_result"
    }
   ],
   "source": [
    "set(text)"
   ]
  },
  {
   "cell_type": "code",
   "execution_count": 71,
   "id": "c22a0b95-6e8a-448c-bb0c-8d4bac59a101",
   "metadata": {},
   "outputs": [
    {
     "name": "stdout",
     "output_type": "stream",
     "text": [
      "n appears 2 times\n",
      "f appears 3 times\n",
      "b appears 2 times\n",
      "u appears 11 times\n",
      "  appears 11 times\n",
      "g appears 1 times\n",
      "o appears 3 times\n",
      "_ appears 1 times\n",
      "y appears 3 times\n",
      "r appears 1 times\n",
      "e appears 4 times\n",
      "j appears 2 times\n",
      "p appears 3 times\n",
      "h appears 9 times\n",
      "i appears 10 times\n",
      "ç appears 2 times\n",
      "v appears 4 times\n"
     ]
    }
   ],
   "source": [
    "for letter in set(text):\n",
    "    \n",
    "    print(letter , 'appears', text.lower().count(letter), 'times') # Or .upper()"
   ]
  },
  {
   "cell_type": "code",
   "execution_count": 79,
   "id": "4e5f9f67-f5a6-4bf7-8c99-edafc027e487",
   "metadata": {},
   "outputs": [
    {
     "name": "stdout",
     "output_type": "stream",
     "text": [
      "u appears 11 times\n",
      "  appears 11 times\n",
      "h appears 9 times\n",
      "i appears 10 times\n"
     ]
    }
   ],
   "source": [
    "for letter in set(text):\n",
    "    if text.count(letter) >= 7:\n",
    "        print(letter , 'appears', text.lower().count(letter), 'times') # Or .upper()\n",
    "        "
   ]
  },
  {
   "cell_type": "code",
   "execution_count": 80,
   "id": "fd95fbe1-064e-4829-a73e-fafac3fff7f6",
   "metadata": {},
   "outputs": [
    {
     "name": "stdout",
     "output_type": "stream",
     "text": [
      "  appears 11 times\n",
      "h appears 9 times\n",
      "i appears 10 times\n",
      "u appears 11 times\n"
     ]
    }
   ],
   "source": [
    "for letter in sorted(set(text)):  # sorted met dans l'ordre \n",
    "    if text.count(letter) >= 7:\n",
    "        print(letter , 'appears', text.lower().count(letter), 'times') # Or .upper()\n",
    "        "
   ]
  },
  {
   "cell_type": "code",
   "execution_count": 84,
   "id": "8d25b221-4349-4fad-a251-bca42eafc8f5",
   "metadata": {},
   "outputs": [
    {
     "name": "stdout",
     "output_type": "stream",
     "text": [
      "h appears 9 times True\n",
      "i appears 10 times True\n",
      "u appears 11 times True\n"
     ]
    }
   ],
   "source": [
    "for letter in sorted(set(text)):  # sorted met dans l'ordre \n",
    "    if not letter.isalnum(): continue\n",
    "    if text.count(letter) >= 7:\n",
    "        print(letter , 'appears', text.lower().count(letter), 'times', letter.isalnum()) # Or .upper()\n",
    "        "
   ]
  },
  {
   "cell_type": "code",
   "execution_count": 81,
   "id": "cb39c3b7-e8ec-4fb9-b2ce-b65cb848ea03",
   "metadata": {},
   "outputs": [
    {
     "name": "stdout",
     "output_type": "stream",
     "text": [
      "u appears 11 times\n"
     ]
    }
   ],
   "source": [
    "for letter in set(text):\n",
    "    if text.count(letter) >= 7:\n",
    "        print(letter , 'appears', text.lower().count(letter), 'times') # Or .upper()\n",
    "        break"
   ]
  },
  {
   "cell_type": "code",
   "execution_count": 92,
   "id": "e57e29b7-2632-488c-83ac-4bba85b855c1",
   "metadata": {},
   "outputs": [
    {
     "name": "stdout",
     "output_type": "stream",
     "text": [
      "niubhuipgpuhpunijoijihçhiçohihihoihuyvyuvvyuibfrfueueueuehfv\n"
     ]
    }
   ],
   "source": [
    "text_only_words = [] # Initializ\n",
    "\n",
    "for char in text:\n",
    "    if char.isalnum():\n",
    "        text_only_words.append(char)\n",
    "print(\"\".join(text_only_words))"
   ]
  },
  {
   "cell_type": "code",
   "execution_count": 94,
   "id": "1870dd28-8a2f-4b5f-a7f3-712913cc825d",
   "metadata": {},
   "outputs": [
    {
     "name": "stdout",
     "output_type": "stream",
     "text": [
      "niubhuipgpuhpun ijoiji h çhiço hi hihoih uyvyuvvyuibfr fueu eue  uehf v\n"
     ]
    }
   ],
   "source": [
    "text_only_words = [] # Initializ\n",
    "\n",
    "for char in text:\n",
    "    if char.isalnum() or char == ' ':\n",
    "        text_only_words.append(char)\n",
    "print(\"\".join(text_only_words))"
   ]
  },
  {
   "cell_type": "code",
   "execution_count": 110,
   "id": "0e261a0a-e87f-4d0f-a4fe-9a7593e4f84f",
   "metadata": {},
   "outputs": [
    {
     "ename": "AttributeError",
     "evalue": "'list' object has no attribute 'split'",
     "output_type": "error",
     "traceback": [
      "\u001b[1;31m---------------------------------------------------------------------------\u001b[0m",
      "\u001b[1;31mAttributeError\u001b[0m                            Traceback (most recent call last)",
      "Cell \u001b[1;32mIn[110], line 2\u001b[0m\n\u001b[0;32m      1\u001b[0m mydict \u001b[38;5;241m=\u001b[39m {} \u001b[38;5;66;03m# Initializ\u001b[39;00m\n\u001b[1;32m----> 2\u001b[0m unique_words \u001b[38;5;241m=\u001b[39m \u001b[38;5;28mlist\u001b[39m(\u001b[38;5;28mset\u001b[39m(text_only_words\u001b[38;5;241m.\u001b[39msplit(\u001b[38;5;124m'\u001b[39m\u001b[38;5;124m \u001b[39m\u001b[38;5;124m'\u001b[39m)))\n\u001b[0;32m      4\u001b[0m words \u001b[38;5;241m=\u001b[39m text_only_words\u001b[38;5;241m.\u001b[39msplit(\u001b[38;5;124m'\u001b[39m\u001b[38;5;124m \u001b[39m\u001b[38;5;124m'\u001b[39m)\n",
      "\u001b[1;31mAttributeError\u001b[0m: 'list' object has no attribute 'split'"
     ]
    }
   ],
   "source": [
    "mydict = {} # Initializ\n",
    "unique_words = list(set(text_only_words.split(' ')))\n",
    "\n",
    "words = text_only_words.split(' ')"
   ]
  },
  {
   "cell_type": "code",
   "execution_count": 106,
   "id": "af48f1d5-5ac4-4b1f-b886-b9c4dcba2ee1",
   "metadata": {},
   "outputs": [
    {
     "name": "stdout",
     "output_type": "stream",
     "text": [
      "niubhuipgpuhpun 1\n",
      "ijoiji 1\n",
      "h 1\n",
      "ç_hiço 1\n",
      "hi 1\n",
      "hihoih 1\n",
      "uyvyuvvyuibfr 1\n",
      "fueu 1\n",
      "eue 1\n",
      " 1\n",
      "uehf 1\n",
      "v 1\n"
     ]
    }
   ],
   "source": [
    "for word in words:\n",
    "    print(word, words.count(word))\n",
    "    mydict[word] = words.count(word)"
   ]
  },
  {
   "cell_type": "code",
   "execution_count": 107,
   "id": "182aa418-64c6-4c99-a53d-b9005cdc763e",
   "metadata": {},
   "outputs": [
    {
     "data": {
      "text/plain": [
       "{'niubhuipgpuhpun': 1,\n",
       " 'ijoiji': 1,\n",
       " 'h': 1,\n",
       " 'ç_hiço': 1,\n",
       " 'hi': 1,\n",
       " 'hihoih': 1,\n",
       " 'uyvyuvvyuibfr': 1,\n",
       " 'fueu': 1,\n",
       " 'eue': 1,\n",
       " '': 1,\n",
       " 'uehf': 1,\n",
       " 'v': 1}"
      ]
     },
     "execution_count": 107,
     "metadata": {},
     "output_type": "execute_result"
    }
   ],
   "source": [
    "mydict"
   ]
  },
  {
   "cell_type": "code",
   "execution_count": 108,
   "id": "a037b2a5-302c-4614-b031-44c770d7a88b",
   "metadata": {},
   "outputs": [
    {
     "data": {
      "text/plain": [
       "1"
      ]
     },
     "execution_count": 108,
     "metadata": {},
     "output_type": "execute_result"
    }
   ],
   "source": [
    "mydict['fueu']"
   ]
  },
  {
   "cell_type": "code",
   "execution_count": null,
   "id": "41e64502-de30-4849-a017-edcdf123c8e6",
   "metadata": {},
   "outputs": [],
   "source": []
  }
 ],
 "metadata": {
  "kernelspec": {
   "display_name": "Python 3 (ipykernel)",
   "language": "python",
   "name": "python3"
  },
  "language_info": {
   "codemirror_mode": {
    "name": "ipython",
    "version": 3
   },
   "file_extension": ".py",
   "mimetype": "text/x-python",
   "name": "python",
   "nbconvert_exporter": "python",
   "pygments_lexer": "ipython3",
   "version": "3.11.5"
  }
 },
 "nbformat": 4,
 "nbformat_minor": 5
}
